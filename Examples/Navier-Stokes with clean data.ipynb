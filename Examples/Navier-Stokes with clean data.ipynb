{
 "cells": [
  {
   "cell_type": "markdown",
   "metadata": {},
   "source": [
    "# PDE-FIND for identifying Navier-Stokes\n",
    "\n",
    "Samuel Rudy, 2016\n",
    "\n",
    "This notebook demonstrates PDE-FIND for the vorticity equation given a simulation of fluid flowing around a cylinder.\n",
    "\\begin{align*}\n",
    "\\omega_t &= \\frac{1}{Re}\\nabla^2 \\omega - (V \\cdot \\nabla)\\omega\\\\\n",
    "V &= (v,u)\\\\\n",
    "Re &= 100\n",
    "\\end{align*}\n",
    "The x and y components of the velocity field are given as forcing terms to the PDE.  That is, they appear in $\\Theta$, but are not differentiated."
   ]
  },
  {
   "cell_type": "code",
   "execution_count": 1,
   "metadata": {
    "collapsed": false
   },
   "outputs": [
    {
     "name": "stdout",
     "output_type": "stream",
     "text": [
      "Populating the interactive namespace from numpy and matplotlib\n"
     ]
    }
   ],
   "source": [
    "%pylab inline\n",
    "pylab.rcParams['figure.figsize'] = (12, 8)\n",
    "import numpy as np\n",
    "from mpl_toolkits.mplot3d import Axes3D\n",
    "from PDE_FIND import *\n",
    "import scipy.io as sio\n",
    "import itertools"
   ]
  },
  {
   "cell_type": "markdown",
   "metadata": {},
   "source": [
    "Load in the data."
   ]
  },
  {
   "cell_type": "code",
   "execution_count": 2,
   "metadata": {
    "collapsed": false
   },
   "outputs": [],
   "source": [
    "# Load data\n",
    "data = sio.loadmat('../CYLINDER/DATA/ALL.mat')\n",
    "steps = 151\n",
    "n = 449\n",
    "m = 199\n",
    "W = data['VORTALL'].reshape(n,m,steps)   # vorticity\n",
    "U = data['UALL'].reshape(n,m,steps)      # x-component of velocity\n",
    "V = data['VALL'].reshape(n,m,steps)      # y-component of velocity\n",
    "\n",
    "dt = 0.2\n",
    "dx = 0.02\n",
    "dy = 0.02\n",
    "\n",
    "# Cut out the portion of the data before the cylinder\n",
    "xmin = 100\n",
    "xmax = 425\n",
    "ymin = 15\n",
    "ymax = 185\n",
    "\n",
    "W = W[xmin:xmax,ymin:ymax,:]\n",
    "U = U[xmin:xmax,ymin:ymax,:]\n",
    "V = V[xmin:xmax,ymin:ymax,:]\n",
    "n,m,steps = W.shape"
   ]
  },
  {
   "cell_type": "markdown",
   "metadata": {},
   "source": [
    "Here we take the SVD of the data and reconstruct either with a reduced basis or everything.  It isn't necesarry but is interesting to show that we can still derive the correct PDE with the first 50 modes (maybe less). "
   ]
  },
  {
   "cell_type": "code",
   "execution_count": 3,
   "metadata": {
    "collapsed": false
   },
   "outputs": [],
   "source": [
    "W = W.reshape(n*m,steps)\n",
    "U = U.reshape(n*m,steps)\n",
    "V = V.reshape(n*m,steps)"
   ]
  },
  {
   "cell_type": "code",
   "execution_count": 4,
   "metadata": {
    "collapsed": false
   },
   "outputs": [],
   "source": [
    "uw,sigmaw,vw = svd(W, full_matrices=False); vw = vw.T\n",
    "uu,sigmau,vu = svd(U, full_matrices=False); vu = vu.T\n",
    "uv,sigmav,vv = svd(V, full_matrices=False); vv = vv.T"
   ]
  },
  {
   "cell_type": "code",
   "execution_count": 5,
   "metadata": {
    "collapsed": false
   },
   "outputs": [
    {
     "data": {
      "text/plain": [
       "[<matplotlib.lines.Line2D at 0x7fe6e57b5f50>]"
      ]
     },
     "execution_count": 5,
     "metadata": {},
     "output_type": "execute_result"
    },
    {
     "data": {
      "image/png": "[encoded data removed]",
      "text/plain": [
       "<matplotlib.figure.Figure at 0x7fe6e5af5210>"
      ]
     },
     "metadata": {},
     "output_type": "display_data"
    }
   ],
   "source": [
    "semilogy(sigmaw)\n",
    "semilogy(sigmau)\n",
    "semilogy(sigmav)"
   ]
  },
  {
   "cell_type": "code",
   "execution_count": 6,
   "metadata": {
    "collapsed": false
   },
   "outputs": [],
   "source": [
    "# Use this code to identify the PDE from reduced basis\n",
    "# dim = 50\n",
    "# Wn = uw[:,0:dim].dot(np.diag(sigmaw[0:dim]).dot(vw[:,0:dim].T)).reshape(n,m,steps)\n",
    "# Un = uu[:,0:dim].dot(np.diag(sigmau[0:dim]).dot(vu[:,0:dim].T)).reshape(n,m,steps)\n",
    "# Vn = uv[:,0:dim].dot(np.diag(sigmav[0:dim]).dot(vv[:,0:dim].T)).reshape(n,m,steps)\n",
    "\n",
    "# Or this code to take the full solution\n",
    "Wn = W.reshape(n,m,steps)\n",
    "Un = U.reshape(n,m,steps)\n",
    "Vn = V.reshape(n,m,steps)"
   ]
  },
  {
   "cell_type": "markdown",
   "metadata": {},
   "source": [
    "## Sample data points\n",
    "\n",
    "Now randomly sample some points to use.  See figure 1, panel 2a-2c for visual description of what we're doing here.  5000 spatial points are samples and 60 timepoints are viewed at each one.  Note that we still need nearby points to take derivatives."
   ]
  },
  {
   "cell_type": "code",
   "execution_count": 7,
   "metadata": {
    "collapsed": false
   },
   "outputs": [],
   "source": [
    "# Sample a collection of data points, stay away from edges so I can just use centered finite differences.\n",
    "np.random.seed(0)\n",
    "\n",
    "num_xy = 5000\n",
    "num_t = 60\n",
    "num_points = num_xy * num_t\n",
    "boundary = 5\n",
    "boundary_x = 10\n",
    "points = {}\n",
    "count = 0\n",
    "\n",
    "for p in range(num_xy):\n",
    "    x = np.random.choice(np.arange(boundary_x,n-boundary_x),1)[0]\n",
    "    y = np.random.choice(np.arange(boundary,m-boundary),1)[0]\n",
    "    for t in range(num_t):\n",
    "        points[count] = [x,y,2*t+12]\n",
    "        count = count + 1"
   ]
  },
  {
   "cell_type": "markdown",
   "metadata": {},
   "source": [
    "## Construct $\\Theta (U)$ and compute $U_t$\n",
    "\n",
    "Take derivatives and assemble into $\\Theta(\\omega, u ,v)$"
   ]
  },
  {
   "cell_type": "code",
   "execution_count": 8,
   "metadata": {
    "collapsed": false
   },
   "outputs": [],
   "source": [
    "# Take up to second order derivatives.\n",
    "w = np.zeros((num_points,1))\n",
    "u = np.zeros((num_points,1))\n",
    "v = np.zeros((num_points,1))\n",
    "wt = np.zeros((num_points,1))\n",
    "wx = np.zeros((num_points,1))\n",
    "wy = np.zeros((num_points,1))\n",
    "wxx = np.zeros((num_points,1))\n",
    "wxy = np.zeros((num_points,1))\n",
    "wyy = np.zeros((num_points,1))\n",
    "\n",
    "N = 2*boundary-1  # odd number of points to use in fitting\n",
    "Nx = 2*boundary_x-1  # odd number of points to use in fitting\n",
    "deg = 5 # degree of polynomial to use\n",
    "\n",
    "for p in points.keys():\n",
    "    \n",
    "    [x,y,t] = points[p]\n",
    "    w[p] = Wn[x,y,t]\n",
    "    u[p] = Un[x,y,t]\n",
    "    v[p] = Vn[x,y,t]\n",
    "    \n",
    "    wt[p] = PolyDiffPoint(Wn[x,y,t-(N-1)/2:t+(N+1)/2], np.arange(N)*dt, deg, 1)[0]\n",
    "    \n",
    "    x_diff = PolyDiffPoint(Wn[x-(Nx-1)/2:x+(Nx+1)/2,y,t], np.arange(Nx)*dx, deg, 2)\n",
    "    y_diff = PolyDiffPoint(Wn[x,y-(N-1)/2:y+(N+1)/2,t], np.arange(N)*dy, deg, 2)\n",
    "    wx[p] = x_diff[0]\n",
    "    wy[p] = y_diff[0]\n",
    "    \n",
    "    x_diff_yp = PolyDiffPoint(Wn[x-(Nx-1)/2:x+(Nx+1)/2,y+1,t], np.arange(Nx)*dx, deg, 2)\n",
    "    x_diff_ym = PolyDiffPoint(Wn[x-(Nx-1)/2:x+(Nx+1)/2,y-1,t], np.arange(Nx)*dx, deg, 2)\n",
    "    \n",
    "    wxx[p] = x_diff[1]\n",
    "    wxy[p] = (x_diff_yp[0]-x_diff_ym[0])/(2*dy)\n",
    "    wyy[p] = y_diff[1]"
   ]
  },
  {
   "cell_type": "code",
   "execution_count": 9,
   "metadata": {
    "collapsed": false
   },
   "outputs": [
    {
     "name": "stdout",
     "output_type": "stream",
     "text": [
      "Candidate terms for PDE\n"
     ]
    },
    {
     "data": {
      "text/plain": [
       "['1',\n",
       " 'w_{x}',\n",
       " 'w_{y}',\n",
       " 'w_{xx}',\n",
       " 'w_{xy}',\n",
       " 'w_{yy}',\n",
       " 'uv',\n",
       " 'v^2',\n",
       " 'u^2',\n",
       " 'w',\n",
       " 'wu',\n",
       " 'v',\n",
       " 'wv',\n",
       " 'u',\n",
       " 'w^2',\n",
       " 'uvw_{x}',\n",
       " 'v^2w_{x}',\n",
       " 'u^2w_{x}',\n",
       " 'ww_{x}',\n",
       " 'wuw_{x}',\n",
       " 'vw_{x}',\n",
       " 'wvw_{x}',\n",
       " 'uw_{x}',\n",
       " 'w^2w_{x}',\n",
       " 'uvw_{y}',\n",
       " 'v^2w_{y}',\n",
       " 'u^2w_{y}',\n",
       " 'ww_{y}',\n",
       " 'wuw_{y}',\n",
       " 'vw_{y}',\n",
       " 'wvw_{y}',\n",
       " 'uw_{y}',\n",
       " 'w^2w_{y}',\n",
       " 'uvw_{xx}',\n",
       " 'v^2w_{xx}',\n",
       " 'u^2w_{xx}',\n",
       " 'ww_{xx}',\n",
       " 'wuw_{xx}',\n",
       " 'vw_{xx}',\n",
       " 'wvw_{xx}',\n",
       " 'uw_{xx}',\n",
       " 'w^2w_{xx}',\n",
       " 'uvw_{xy}',\n",
       " 'v^2w_{xy}',\n",
       " 'u^2w_{xy}',\n",
       " 'ww_{xy}',\n",
       " 'wuw_{xy}',\n",
       " 'vw_{xy}',\n",
       " 'wvw_{xy}',\n",
       " 'uw_{xy}',\n",
       " 'w^2w_{xy}',\n",
       " 'uvw_{yy}',\n",
       " 'v^2w_{yy}',\n",
       " 'u^2w_{yy}',\n",
       " 'ww_{yy}',\n",
       " 'wuw_{yy}',\n",
       " 'vw_{yy}',\n",
       " 'wvw_{yy}',\n",
       " 'uw_{yy}',\n",
       " 'w^2w_{yy}']"
      ]
     },
     "execution_count": 9,
     "metadata": {},
     "output_type": "execute_result"
    }
   ],
   "source": [
    "# Form a huge matrix using up to quadratic polynomials in all variables.\n",
    "X_data = np.hstack([w,u,v])\n",
    "X_ders = np.hstack([np.ones((num_points,1)), wx, wy, wxx, wxy, wyy])\n",
    "X_ders_descr = ['','w_{x}', 'w_{y}','w_{xx}','w_{xy}','w_{yy}']\n",
    "X, description = build_Theta(X_data, X_ders, X_ders_descr, 2, data_description = ['w','u','v'])\n",
    "print 'Candidate terms for PDE'\n",
    "['1']+description[1:]"
   ]
  },
  {
   "cell_type": "markdown",
   "metadata": {},
   "source": [
    "## Solve for $\\xi$\n",
    "\n",
    "TrainSTRidge splits the data up into 80% for training and 20% for validation.  It searches over various tolerances in the STRidge algorithm and finds the one with the best performance on the validation set, including an $\\ell^0$ penalty for $\\xi$ in the loss function."
   ]
  },
  {
   "cell_type": "code",
   "execution_count": 10,
   "metadata": {
    "collapsed": false
   },
   "outputs": [
    {
     "name": "stdout",
     "output_type": "stream",
     "text": [
      "w_t = (0.009884 +0.000000i)w_{xx}\n",
      "    + (0.009902 +0.000000i)w_{yy}\n",
      "    + (-0.990371 +0.000000i)uw_{x}\n",
      "    + (-0.986629 +0.000000i)vw_{y}\n",
      "   \n"
     ]
    }
   ],
   "source": [
    "lam = 10**-5\n",
    "d_tol = 5\n",
    "c = TrainSTRidge(X,wt,lam,d_tol)\n",
    "print_pde(c, description, ut = 'w_t')"
   ]
  },
  {
   "cell_type": "code",
   "execution_count": 11,
   "metadata": {
    "collapsed": false
   },
   "outputs": [
    {
     "name": "stdout",
     "output_type": "stream",
     "text": [
      "Error using PDE-FIND to identify Navier-Stokes:\n",
      "\n",
      "Mean parameter error: 1.11 %\n",
      "Standard deviation of parameter error: 0.152161772466 %\n"
     ]
    }
   ],
   "source": [
    "err = abs(np.array([(0.009884-0.01)*100/0.01, (0.009902-0.01)*100/0.01, (-0.990371+1)*100, (-0.986629+1)*100]))\n",
    "print \"Error using PDE-FIND to identify Navier-Stokes:\\n\"\n",
    "print \"Mean parameter error:\", np.mean(err), '%'\n",
    "print \"Standard deviation of parameter error:\", np.std(err), '%'"
   ]
  },
  {
   "cell_type": "code",
   "execution_count": null,
   "metadata": {
    "collapsed": true
   },
   "outputs": [],
   "source": []
  }
 ],
 "metadata": {
  "anaconda-cloud": {},
  "kernelspec": {
   "display_name": "Python 2",
   "language": "python",
   "name": "python2"
  },
  "language_info": {
   "codemirror_mode": {
    "name": "ipython",
    "version": 2
   },
   "file_extension": ".py",
   "mimetype": "text/x-python",
   "name": "python",
   "nbconvert_exporter": "python",
   "pygments_lexer": "ipython2",
   "version": "2.7.11"
  }
 },
 "nbformat": 4,
 "nbformat_minor": 0
}
